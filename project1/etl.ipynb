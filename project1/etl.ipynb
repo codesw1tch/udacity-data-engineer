{
 "cells": [
  {
   "cell_type": "markdown",
   "metadata": {},
   "source": [
    "# ETL Processes\n",
    "Use this notebook to develop the ETL process for each of your tables before completing the `etl.py` file to load the whole datasets."
   ]
  },
  {
   "cell_type": "code",
   "execution_count": 1,
   "metadata": {},
   "outputs": [],
   "source": [
    "import os\n",
    "import glob\n",
    "import psycopg2\n",
    "import pandas as pd\n",
    "from sql_queries import *"
   ]
  },
  {
   "cell_type": "code",
   "execution_count": 2,
   "metadata": {},
   "outputs": [],
   "source": [
    "conn = psycopg2.connect(\"host='localhost' port=5432 dbname='udacity_project2'\")\n",
    "cur = conn.cursor()"
   ]
  },
  {
   "cell_type": "code",
   "execution_count": 3,
   "metadata": {},
   "outputs": [],
   "source": [
    "def get_files(filepath):\n",
    "    all_files = []\n",
    "    for root, dirs, files in os.walk(filepath):\n",
    "        files = glob.glob(os.path.join(root,'*.json'))\n",
    "        for f in files :\n",
    "            all_files.append(os.path.abspath(f))\n",
    "    \n",
    "    return all_files"
   ]
  },
  {
   "cell_type": "markdown",
   "metadata": {},
   "source": [
    "# Process `song_data`\n",
    "In this first part, you'll perform ETL on the first dataset, `song_data`, to create the `songs` and `artists` dimensional tables.\n",
    "\n",
    "Let's perform ETL on a single song file and load a single record into each table to start.\n",
    "- Use the `get_files` function provided above to get a list of all song JSON files in `data/song_data`\n",
    "- Select the first song in this list\n",
    "- Read the song file and view the data"
   ]
  },
  {
   "cell_type": "code",
   "execution_count": 4,
   "metadata": {},
   "outputs": [],
   "source": [
    "song_files = get_files('./data/song_data/')"
   ]
  },
  {
   "cell_type": "code",
   "execution_count": 5,
   "metadata": {},
   "outputs": [
    {
     "name": "stdout",
     "output_type": "stream",
     "text": [
      "/Users/codesw1tch/dev/udacity-data-engineer/project1/data/song_data/A/A/A/TRAAAEF128F4273421.json\n"
     ]
    }
   ],
   "source": [
    "filepath = song_files[0]\n",
    "\n",
    "print(filepath)"
   ]
  },
  {
   "cell_type": "code",
   "execution_count": 6,
   "metadata": {},
   "outputs": [
    {
     "data": {
      "text/html": [
       "<div>\n",
       "<style scoped>\n",
       "    .dataframe tbody tr th:only-of-type {\n",
       "        vertical-align: middle;\n",
       "    }\n",
       "\n",
       "    .dataframe tbody tr th {\n",
       "        vertical-align: top;\n",
       "    }\n",
       "\n",
       "    .dataframe thead th {\n",
       "        text-align: right;\n",
       "    }\n",
       "</style>\n",
       "<table border=\"1\" class=\"dataframe\">\n",
       "  <thead>\n",
       "    <tr style=\"text-align: right;\">\n",
       "      <th></th>\n",
       "      <th>0</th>\n",
       "    </tr>\n",
       "  </thead>\n",
       "  <tbody>\n",
       "    <tr>\n",
       "      <td>num_songs</td>\n",
       "      <td>1</td>\n",
       "    </tr>\n",
       "    <tr>\n",
       "      <td>artist_id</td>\n",
       "      <td>AR7G5I41187FB4CE6C</td>\n",
       "    </tr>\n",
       "    <tr>\n",
       "      <td>artist_latitude</td>\n",
       "      <td>None</td>\n",
       "    </tr>\n",
       "    <tr>\n",
       "      <td>artist_longitude</td>\n",
       "      <td>None</td>\n",
       "    </tr>\n",
       "    <tr>\n",
       "      <td>artist_location</td>\n",
       "      <td>London, England</td>\n",
       "    </tr>\n",
       "  </tbody>\n",
       "</table>\n",
       "</div>"
      ],
      "text/plain": [
       "                                   0\n",
       "num_songs                          1\n",
       "artist_id         AR7G5I41187FB4CE6C\n",
       "artist_latitude                 None\n",
       "artist_longitude                None\n",
       "artist_location      London, England"
      ]
     },
     "execution_count": 6,
     "metadata": {},
     "output_type": "execute_result"
    }
   ],
   "source": [
    "df = pd.read_json(filepath, typ='ser').to_frame()\n",
    "df.head()"
   ]
  },
  {
   "cell_type": "code",
   "execution_count": 7,
   "metadata": {},
   "outputs": [
    {
     "data": {
      "text/plain": [
       "Index(['num_songs', 'artist_id', 'artist_latitude', 'artist_longitude',\n",
       "       'artist_location', 'artist_name', 'song_id', 'title', 'duration',\n",
       "       'year'],\n",
       "      dtype='object')"
      ]
     },
     "execution_count": 7,
     "metadata": {},
     "output_type": "execute_result"
    }
   ],
   "source": [
    "df.index"
   ]
  },
  {
   "cell_type": "markdown",
   "metadata": {},
   "source": [
    "## #1: `songs` Table\n",
    "#### Extract Data for Songs Table\n",
    "- Select columns for song ID, title, artist ID, year, and duration\n",
    "- Use `df.values` to select just the values from the dataframe\n",
    "- Index to select the first (only) record in the dataframe\n",
    "- Convert the array to a list and set it to `song_data`"
   ]
  },
  {
   "cell_type": "code",
   "execution_count": 8,
   "metadata": {},
   "outputs": [
    {
     "data": {
      "text/plain": [
       "1"
      ]
     },
     "execution_count": 8,
     "metadata": {},
     "output_type": "execute_result"
    }
   ],
   "source": [
    "df[0]['num_songs']"
   ]
  },
  {
   "cell_type": "code",
   "execution_count": 9,
   "metadata": {},
   "outputs": [
    {
     "data": {
      "text/plain": [
       "['SONHOTT12A8C13493C',\n",
       " 'Something Girls',\n",
       " 'AR7G5I41187FB4CE6C',\n",
       " 1982,\n",
       " 233.40363]"
      ]
     },
     "execution_count": 9,
     "metadata": {},
     "output_type": "execute_result"
    }
   ],
   "source": [
    "song_data = df[0][['song_id', 'title', 'artist_id', 'year', 'duration']].values.tolist()\n",
    "song_data"
   ]
  },
  {
   "cell_type": "markdown",
   "metadata": {},
   "source": [
    "#### Insert Record into Song Table\n",
    "Implement the `song_table_insert` query in `sql_queries.py` and run the cell below to insert a record for this song into the `songs` table. Remember to run `create_tables.py` before running the cell below to ensure you've created/resetted the `songs` table in the sparkify database."
   ]
  },
  {
   "cell_type": "code",
   "execution_count": 10,
   "metadata": {},
   "outputs": [],
   "source": [
    "cur.execute(song_table_insert, song_data)\n",
    "conn.commit()"
   ]
  },
  {
   "cell_type": "markdown",
   "metadata": {},
   "source": [
    "Run `test.ipynb` to see if you've successfully added a record to this table."
   ]
  },
  {
   "cell_type": "markdown",
   "metadata": {},
   "source": [
    "## #2: `artists` Table\n",
    "#### Extract Data for Artists Table\n",
    "- Select columns for artist ID, name, location, latitude, and longitude\n",
    "- Use `df.values` to select just the values from the dataframe\n",
    "- Index to select the first (only) record in the dataframe\n",
    "- Convert the array to a list and set it to `artist_data`"
   ]
  },
  {
   "cell_type": "code",
   "execution_count": 11,
   "metadata": {},
   "outputs": [
    {
     "data": {
      "text/plain": [
       "num_songs                            1\n",
       "artist_id           AR7G5I41187FB4CE6C\n",
       "artist_latitude                   None\n",
       "artist_longitude                  None\n",
       "artist_location        London, England\n",
       "artist_name                   Adam Ant\n",
       "song_id             SONHOTT12A8C13493C\n",
       "title                  Something Girls\n",
       "duration                       233.404\n",
       "year                              1982\n",
       "Name: 0, dtype: object"
      ]
     },
     "execution_count": 11,
     "metadata": {},
     "output_type": "execute_result"
    }
   ],
   "source": [
    "df[0]"
   ]
  },
  {
   "cell_type": "code",
   "execution_count": 12,
   "metadata": {},
   "outputs": [
    {
     "data": {
      "text/plain": [
       "['AR7G5I41187FB4CE6C', 'Adam Ant', 'London, England', None, None]"
      ]
     },
     "execution_count": 12,
     "metadata": {},
     "output_type": "execute_result"
    }
   ],
   "source": [
    "artist_data = df[0][['artist_id', 'artist_name', 'artist_location', 'artist_latitude', 'artist_longitude']].values.tolist()\n",
    "artist_data"
   ]
  },
  {
   "cell_type": "markdown",
   "metadata": {},
   "source": [
    "#### Insert Record into Artist Table\n",
    "Implement the `artist_table_insert` query in `sql_queries.py` and run the cell below to insert a record for this song's artist into the `artists` table. Remember to run `create_tables.py` before running the cell below to ensure you've created/resetted the `artists` table in the sparkify database."
   ]
  },
  {
   "cell_type": "code",
   "execution_count": 13,
   "metadata": {},
   "outputs": [],
   "source": [
    "cur.execute(artist_table_insert, artist_data)\n",
    "conn.commit()"
   ]
  },
  {
   "cell_type": "markdown",
   "metadata": {},
   "source": [
    "Run `test.ipynb` to see if you've successfully added a record to this table."
   ]
  },
  {
   "cell_type": "markdown",
   "metadata": {},
   "source": [
    "# Process `log_data`\n",
    "In this part, you'll perform ETL on the second dataset, `log_data`, to create the `time` and `users` dimensional tables, as well as the `songplays` fact table.\n",
    "\n",
    "Let's perform ETL on a single log file and load a single record into each table.\n",
    "- Use the `get_files` function provided above to get a list of all log JSON files in `data/log_data`\n",
    "- Select the first log file in this list\n",
    "- Read the log file and view the data"
   ]
  },
  {
   "cell_type": "code",
   "execution_count": 14,
   "metadata": {},
   "outputs": [],
   "source": [
    "log_files = get_files('./data/log_data')"
   ]
  },
  {
   "cell_type": "code",
   "execution_count": 15,
   "metadata": {},
   "outputs": [
    {
     "name": "stdout",
     "output_type": "stream",
     "text": [
      "/Users/codesw1tch/dev/udacity-data-engineer/project1/data/log_data/2018/11/2018-11-18-events.json\n"
     ]
    }
   ],
   "source": [
    "filepath = log_files[2]\n",
    "print(filepath)"
   ]
  },
  {
   "cell_type": "code",
   "execution_count": 16,
   "metadata": {},
   "outputs": [
    {
     "data": {
      "text/html": [
       "<div>\n",
       "<style scoped>\n",
       "    .dataframe tbody tr th:only-of-type {\n",
       "        vertical-align: middle;\n",
       "    }\n",
       "\n",
       "    .dataframe tbody tr th {\n",
       "        vertical-align: top;\n",
       "    }\n",
       "\n",
       "    .dataframe thead th {\n",
       "        text-align: right;\n",
       "    }\n",
       "</style>\n",
       "<table border=\"1\" class=\"dataframe\">\n",
       "  <thead>\n",
       "    <tr style=\"text-align: right;\">\n",
       "      <th></th>\n",
       "      <th>artist</th>\n",
       "      <th>auth</th>\n",
       "      <th>firstName</th>\n",
       "      <th>gender</th>\n",
       "      <th>itemInSession</th>\n",
       "      <th>lastName</th>\n",
       "      <th>length</th>\n",
       "      <th>level</th>\n",
       "      <th>location</th>\n",
       "      <th>method</th>\n",
       "      <th>page</th>\n",
       "      <th>registration</th>\n",
       "      <th>sessionId</th>\n",
       "      <th>song</th>\n",
       "      <th>status</th>\n",
       "      <th>ts</th>\n",
       "      <th>userAgent</th>\n",
       "      <th>userId</th>\n",
       "    </tr>\n",
       "  </thead>\n",
       "  <tbody>\n",
       "    <tr>\n",
       "      <td>0</td>\n",
       "      <td>Rokia TraorÃÂ©</td>\n",
       "      <td>Logged In</td>\n",
       "      <td>Stefany</td>\n",
       "      <td>F</td>\n",
       "      <td>0</td>\n",
       "      <td>White</td>\n",
       "      <td>274.88608</td>\n",
       "      <td>free</td>\n",
       "      <td>Lubbock, TX</td>\n",
       "      <td>PUT</td>\n",
       "      <td>NextSong</td>\n",
       "      <td>1.540708e+12</td>\n",
       "      <td>693</td>\n",
       "      <td>Zen</td>\n",
       "      <td>200</td>\n",
       "      <td>1542508401796</td>\n",
       "      <td>\"Mozilla/5.0 (Macintosh; Intel Mac OS X 10_9_4...</td>\n",
       "      <td>83</td>\n",
       "    </tr>\n",
       "    <tr>\n",
       "      <td>1</td>\n",
       "      <td>None</td>\n",
       "      <td>Logged In</td>\n",
       "      <td>Tucker</td>\n",
       "      <td>M</td>\n",
       "      <td>0</td>\n",
       "      <td>Garrison</td>\n",
       "      <td>NaN</td>\n",
       "      <td>free</td>\n",
       "      <td>Oxnard-Thousand Oaks-Ventura, CA</td>\n",
       "      <td>GET</td>\n",
       "      <td>Home</td>\n",
       "      <td>1.540833e+12</td>\n",
       "      <td>555</td>\n",
       "      <td>None</td>\n",
       "      <td>200</td>\n",
       "      <td>1542511280796</td>\n",
       "      <td>\"Mozilla/5.0 (Macintosh; Intel Mac OS X 10_9_4...</td>\n",
       "      <td>40</td>\n",
       "    </tr>\n",
       "    <tr>\n",
       "      <td>2</td>\n",
       "      <td>Camila</td>\n",
       "      <td>Logged In</td>\n",
       "      <td>Tucker</td>\n",
       "      <td>M</td>\n",
       "      <td>1</td>\n",
       "      <td>Garrison</td>\n",
       "      <td>230.81751</td>\n",
       "      <td>free</td>\n",
       "      <td>Oxnard-Thousand Oaks-Ventura, CA</td>\n",
       "      <td>PUT</td>\n",
       "      <td>NextSong</td>\n",
       "      <td>1.540833e+12</td>\n",
       "      <td>555</td>\n",
       "      <td>Abrazame  (Version Acustica)</td>\n",
       "      <td>200</td>\n",
       "      <td>1542511324796</td>\n",
       "      <td>\"Mozilla/5.0 (Macintosh; Intel Mac OS X 10_9_4...</td>\n",
       "      <td>40</td>\n",
       "    </tr>\n",
       "    <tr>\n",
       "      <td>3</td>\n",
       "      <td>None</td>\n",
       "      <td>Logged In</td>\n",
       "      <td>Ann</td>\n",
       "      <td>F</td>\n",
       "      <td>0</td>\n",
       "      <td>Banks</td>\n",
       "      <td>NaN</td>\n",
       "      <td>free</td>\n",
       "      <td>Salt Lake City, UT</td>\n",
       "      <td>GET</td>\n",
       "      <td>Home</td>\n",
       "      <td>1.540896e+12</td>\n",
       "      <td>573</td>\n",
       "      <td>None</td>\n",
       "      <td>200</td>\n",
       "      <td>1542532333796</td>\n",
       "      <td>Mozilla/5.0 (Macintosh; Intel Mac OS X 10.9; r...</td>\n",
       "      <td>99</td>\n",
       "    </tr>\n",
       "    <tr>\n",
       "      <td>4</td>\n",
       "      <td>Carl Thomas</td>\n",
       "      <td>Logged In</td>\n",
       "      <td>Tucker</td>\n",
       "      <td>M</td>\n",
       "      <td>0</td>\n",
       "      <td>Garrison</td>\n",
       "      <td>196.67546</td>\n",
       "      <td>free</td>\n",
       "      <td>Oxnard-Thousand Oaks-Ventura, CA</td>\n",
       "      <td>PUT</td>\n",
       "      <td>NextSong</td>\n",
       "      <td>1.540833e+12</td>\n",
       "      <td>698</td>\n",
       "      <td>You Ain't Right (Album Version)</td>\n",
       "      <td>200</td>\n",
       "      <td>1542533944796</td>\n",
       "      <td>\"Mozilla/5.0 (Macintosh; Intel Mac OS X 10_9_4...</td>\n",
       "      <td>40</td>\n",
       "    </tr>\n",
       "  </tbody>\n",
       "</table>\n",
       "</div>"
      ],
      "text/plain": [
       "            artist       auth firstName gender  itemInSession  lastName  \\\n",
       "0  Rokia TraorÃÂ©  Logged In   Stefany      F              0     White   \n",
       "1             None  Logged In    Tucker      M              0  Garrison   \n",
       "2           Camila  Logged In    Tucker      M              1  Garrison   \n",
       "3             None  Logged In       Ann      F              0     Banks   \n",
       "4      Carl Thomas  Logged In    Tucker      M              0  Garrison   \n",
       "\n",
       "      length level                          location method      page  \\\n",
       "0  274.88608  free                       Lubbock, TX    PUT  NextSong   \n",
       "1        NaN  free  Oxnard-Thousand Oaks-Ventura, CA    GET      Home   \n",
       "2  230.81751  free  Oxnard-Thousand Oaks-Ventura, CA    PUT  NextSong   \n",
       "3        NaN  free                Salt Lake City, UT    GET      Home   \n",
       "4  196.67546  free  Oxnard-Thousand Oaks-Ventura, CA    PUT  NextSong   \n",
       "\n",
       "   registration  sessionId                             song  status  \\\n",
       "0  1.540708e+12        693                              Zen     200   \n",
       "1  1.540833e+12        555                             None     200   \n",
       "2  1.540833e+12        555     Abrazame  (Version Acustica)     200   \n",
       "3  1.540896e+12        573                             None     200   \n",
       "4  1.540833e+12        698  You Ain't Right (Album Version)     200   \n",
       "\n",
       "              ts                                          userAgent userId  \n",
       "0  1542508401796  \"Mozilla/5.0 (Macintosh; Intel Mac OS X 10_9_4...     83  \n",
       "1  1542511280796  \"Mozilla/5.0 (Macintosh; Intel Mac OS X 10_9_4...     40  \n",
       "2  1542511324796  \"Mozilla/5.0 (Macintosh; Intel Mac OS X 10_9_4...     40  \n",
       "3  1542532333796  Mozilla/5.0 (Macintosh; Intel Mac OS X 10.9; r...     99  \n",
       "4  1542533944796  \"Mozilla/5.0 (Macintosh; Intel Mac OS X 10_9_4...     40  "
      ]
     },
     "execution_count": 16,
     "metadata": {},
     "output_type": "execute_result"
    }
   ],
   "source": [
    "df = pd.read_json(filepath, lines=True)\n",
    "\n",
    "df.head()"
   ]
  },
  {
   "cell_type": "markdown",
   "metadata": {},
   "source": [
    "## #3: `time` Table\n",
    "#### Extract Data for Time Table\n",
    "- Filter records by `NextSong` action\n",
    "- Convert the `ts` timestamp column to datetime\n",
    "  - Hint: the current timestamp is in milliseconds\n",
    "- Extract the timestamp, hour, day, week of year, month, year, and weekday from the `ts` column and set `time_data` to a list containing these values in order\n",
    "  - Hint: use pandas' [`dt` attribute](https://pandas.pydata.org/pandas-docs/stable/reference/api/pandas.Series.dt.html) to access easily datetimelike properties.\n",
    "- Specify labels for these columns and set to `column_labels`\n",
    "- Create a dataframe, `time_df,` containing the time data for this file by combining `column_labels` and `time_data` into a dictionary and converting this into a dataframe"
   ]
  },
  {
   "cell_type": "code",
   "execution_count": 17,
   "metadata": {},
   "outputs": [
    {
     "data": {
      "text/html": [
       "<div>\n",
       "<style scoped>\n",
       "    .dataframe tbody tr th:only-of-type {\n",
       "        vertical-align: middle;\n",
       "    }\n",
       "\n",
       "    .dataframe tbody tr th {\n",
       "        vertical-align: top;\n",
       "    }\n",
       "\n",
       "    .dataframe thead th {\n",
       "        text-align: right;\n",
       "    }\n",
       "</style>\n",
       "<table border=\"1\" class=\"dataframe\">\n",
       "  <thead>\n",
       "    <tr style=\"text-align: right;\">\n",
       "      <th></th>\n",
       "      <th>artist</th>\n",
       "      <th>auth</th>\n",
       "      <th>firstName</th>\n",
       "      <th>gender</th>\n",
       "      <th>itemInSession</th>\n",
       "      <th>lastName</th>\n",
       "      <th>length</th>\n",
       "      <th>level</th>\n",
       "      <th>location</th>\n",
       "      <th>method</th>\n",
       "      <th>page</th>\n",
       "      <th>registration</th>\n",
       "      <th>sessionId</th>\n",
       "      <th>song</th>\n",
       "      <th>status</th>\n",
       "      <th>ts</th>\n",
       "      <th>userAgent</th>\n",
       "      <th>userId</th>\n",
       "    </tr>\n",
       "  </thead>\n",
       "  <tbody>\n",
       "    <tr>\n",
       "      <td>0</td>\n",
       "      <td>Rokia TraorÃÂ©</td>\n",
       "      <td>Logged In</td>\n",
       "      <td>Stefany</td>\n",
       "      <td>F</td>\n",
       "      <td>0</td>\n",
       "      <td>White</td>\n",
       "      <td>274.88608</td>\n",
       "      <td>free</td>\n",
       "      <td>Lubbock, TX</td>\n",
       "      <td>PUT</td>\n",
       "      <td>NextSong</td>\n",
       "      <td>1.540708e+12</td>\n",
       "      <td>693</td>\n",
       "      <td>Zen</td>\n",
       "      <td>200</td>\n",
       "      <td>1542508401796</td>\n",
       "      <td>\"Mozilla/5.0 (Macintosh; Intel Mac OS X 10_9_4...</td>\n",
       "      <td>83</td>\n",
       "    </tr>\n",
       "    <tr>\n",
       "      <td>2</td>\n",
       "      <td>Camila</td>\n",
       "      <td>Logged In</td>\n",
       "      <td>Tucker</td>\n",
       "      <td>M</td>\n",
       "      <td>1</td>\n",
       "      <td>Garrison</td>\n",
       "      <td>230.81751</td>\n",
       "      <td>free</td>\n",
       "      <td>Oxnard-Thousand Oaks-Ventura, CA</td>\n",
       "      <td>PUT</td>\n",
       "      <td>NextSong</td>\n",
       "      <td>1.540833e+12</td>\n",
       "      <td>555</td>\n",
       "      <td>Abrazame  (Version Acustica)</td>\n",
       "      <td>200</td>\n",
       "      <td>1542511324796</td>\n",
       "      <td>\"Mozilla/5.0 (Macintosh; Intel Mac OS X 10_9_4...</td>\n",
       "      <td>40</td>\n",
       "    </tr>\n",
       "    <tr>\n",
       "      <td>4</td>\n",
       "      <td>Carl Thomas</td>\n",
       "      <td>Logged In</td>\n",
       "      <td>Tucker</td>\n",
       "      <td>M</td>\n",
       "      <td>0</td>\n",
       "      <td>Garrison</td>\n",
       "      <td>196.67546</td>\n",
       "      <td>free</td>\n",
       "      <td>Oxnard-Thousand Oaks-Ventura, CA</td>\n",
       "      <td>PUT</td>\n",
       "      <td>NextSong</td>\n",
       "      <td>1.540833e+12</td>\n",
       "      <td>698</td>\n",
       "      <td>You Ain't Right (Album Version)</td>\n",
       "      <td>200</td>\n",
       "      <td>1542533944796</td>\n",
       "      <td>\"Mozilla/5.0 (Macintosh; Intel Mac OS X 10_9_4...</td>\n",
       "      <td>40</td>\n",
       "    </tr>\n",
       "    <tr>\n",
       "      <td>5</td>\n",
       "      <td>N.E.R.D.</td>\n",
       "      <td>Logged In</td>\n",
       "      <td>James</td>\n",
       "      <td>M</td>\n",
       "      <td>0</td>\n",
       "      <td>Martin</td>\n",
       "      <td>242.99057</td>\n",
       "      <td>free</td>\n",
       "      <td>Dallas-Fort Worth-Arlington, TX</td>\n",
       "      <td>PUT</td>\n",
       "      <td>NextSong</td>\n",
       "      <td>1.540810e+12</td>\n",
       "      <td>78</td>\n",
       "      <td>Provider (Remix Radio Edit)</td>\n",
       "      <td>200</td>\n",
       "      <td>1542536291796</td>\n",
       "      <td>Mozilla/5.0 (compatible; MSIE 9.0; Windows NT ...</td>\n",
       "      <td>79</td>\n",
       "    </tr>\n",
       "    <tr>\n",
       "      <td>9</td>\n",
       "      <td>Lil Jon / The East Side Boyz / DJ Flexx</td>\n",
       "      <td>Logged In</td>\n",
       "      <td>Jacqueline</td>\n",
       "      <td>F</td>\n",
       "      <td>3</td>\n",
       "      <td>Lynch</td>\n",
       "      <td>285.30893</td>\n",
       "      <td>paid</td>\n",
       "      <td>Atlanta-Sandy Springs-Roswell, GA</td>\n",
       "      <td>PUT</td>\n",
       "      <td>NextSong</td>\n",
       "      <td>1.540224e+12</td>\n",
       "      <td>589</td>\n",
       "      <td>Aww Skeet Skeet</td>\n",
       "      <td>200</td>\n",
       "      <td>1542546961796</td>\n",
       "      <td>\"Mozilla/5.0 (Macintosh; Intel Mac OS X 10_9_4...</td>\n",
       "      <td>29</td>\n",
       "    </tr>\n",
       "  </tbody>\n",
       "</table>\n",
       "</div>"
      ],
      "text/plain": [
       "                                    artist       auth   firstName gender  \\\n",
       "0                          Rokia TraorÃÂ©  Logged In     Stefany      F   \n",
       "2                                   Camila  Logged In      Tucker      M   \n",
       "4                              Carl Thomas  Logged In      Tucker      M   \n",
       "5                                 N.E.R.D.  Logged In       James      M   \n",
       "9  Lil Jon / The East Side Boyz / DJ Flexx  Logged In  Jacqueline      F   \n",
       "\n",
       "   itemInSession  lastName     length level  \\\n",
       "0              0     White  274.88608  free   \n",
       "2              1  Garrison  230.81751  free   \n",
       "4              0  Garrison  196.67546  free   \n",
       "5              0    Martin  242.99057  free   \n",
       "9              3     Lynch  285.30893  paid   \n",
       "\n",
       "                            location method      page  registration  \\\n",
       "0                        Lubbock, TX    PUT  NextSong  1.540708e+12   \n",
       "2   Oxnard-Thousand Oaks-Ventura, CA    PUT  NextSong  1.540833e+12   \n",
       "4   Oxnard-Thousand Oaks-Ventura, CA    PUT  NextSong  1.540833e+12   \n",
       "5    Dallas-Fort Worth-Arlington, TX    PUT  NextSong  1.540810e+12   \n",
       "9  Atlanta-Sandy Springs-Roswell, GA    PUT  NextSong  1.540224e+12   \n",
       "\n",
       "   sessionId                             song  status             ts  \\\n",
       "0        693                              Zen     200  1542508401796   \n",
       "2        555     Abrazame  (Version Acustica)     200  1542511324796   \n",
       "4        698  You Ain't Right (Album Version)     200  1542533944796   \n",
       "5         78      Provider (Remix Radio Edit)     200  1542536291796   \n",
       "9        589                  Aww Skeet Skeet     200  1542546961796   \n",
       "\n",
       "                                           userAgent userId  \n",
       "0  \"Mozilla/5.0 (Macintosh; Intel Mac OS X 10_9_4...     83  \n",
       "2  \"Mozilla/5.0 (Macintosh; Intel Mac OS X 10_9_4...     40  \n",
       "4  \"Mozilla/5.0 (Macintosh; Intel Mac OS X 10_9_4...     40  \n",
       "5  Mozilla/5.0 (compatible; MSIE 9.0; Windows NT ...     79  \n",
       "9  \"Mozilla/5.0 (Macintosh; Intel Mac OS X 10_9_4...     29  "
      ]
     },
     "execution_count": 17,
     "metadata": {},
     "output_type": "execute_result"
    }
   ],
   "source": [
    "# Filter out incomplete records\n",
    "df = df[df['page'] == 'NextSong']\n",
    "df.head()"
   ]
  },
  {
   "cell_type": "code",
   "execution_count": 18,
   "metadata": {},
   "outputs": [
    {
     "data": {
      "text/html": [
       "<div>\n",
       "<style scoped>\n",
       "    .dataframe tbody tr th:only-of-type {\n",
       "        vertical-align: middle;\n",
       "    }\n",
       "\n",
       "    .dataframe tbody tr th {\n",
       "        vertical-align: top;\n",
       "    }\n",
       "\n",
       "    .dataframe thead th {\n",
       "        text-align: right;\n",
       "    }\n",
       "</style>\n",
       "<table border=\"1\" class=\"dataframe\">\n",
       "  <thead>\n",
       "    <tr style=\"text-align: right;\">\n",
       "      <th></th>\n",
       "      <th>artist</th>\n",
       "      <th>auth</th>\n",
       "      <th>firstName</th>\n",
       "      <th>gender</th>\n",
       "      <th>itemInSession</th>\n",
       "      <th>lastName</th>\n",
       "      <th>length</th>\n",
       "      <th>level</th>\n",
       "      <th>location</th>\n",
       "      <th>method</th>\n",
       "      <th>page</th>\n",
       "      <th>registration</th>\n",
       "      <th>sessionId</th>\n",
       "      <th>song</th>\n",
       "      <th>status</th>\n",
       "      <th>ts</th>\n",
       "      <th>userAgent</th>\n",
       "      <th>userId</th>\n",
       "    </tr>\n",
       "  </thead>\n",
       "  <tbody>\n",
       "    <tr>\n",
       "      <td>0</td>\n",
       "      <td>Rokia TraorÃÂ©</td>\n",
       "      <td>Logged In</td>\n",
       "      <td>Stefany</td>\n",
       "      <td>F</td>\n",
       "      <td>0</td>\n",
       "      <td>White</td>\n",
       "      <td>274.88608</td>\n",
       "      <td>free</td>\n",
       "      <td>Lubbock, TX</td>\n",
       "      <td>PUT</td>\n",
       "      <td>NextSong</td>\n",
       "      <td>1.540708e+12</td>\n",
       "      <td>693</td>\n",
       "      <td>Zen</td>\n",
       "      <td>200</td>\n",
       "      <td>1542508401796</td>\n",
       "      <td>\"Mozilla/5.0 (Macintosh; Intel Mac OS X 10_9_4...</td>\n",
       "      <td>83</td>\n",
       "    </tr>\n",
       "    <tr>\n",
       "      <td>2</td>\n",
       "      <td>Camila</td>\n",
       "      <td>Logged In</td>\n",
       "      <td>Tucker</td>\n",
       "      <td>M</td>\n",
       "      <td>1</td>\n",
       "      <td>Garrison</td>\n",
       "      <td>230.81751</td>\n",
       "      <td>free</td>\n",
       "      <td>Oxnard-Thousand Oaks-Ventura, CA</td>\n",
       "      <td>PUT</td>\n",
       "      <td>NextSong</td>\n",
       "      <td>1.540833e+12</td>\n",
       "      <td>555</td>\n",
       "      <td>Abrazame  (Version Acustica)</td>\n",
       "      <td>200</td>\n",
       "      <td>1542511324796</td>\n",
       "      <td>\"Mozilla/5.0 (Macintosh; Intel Mac OS X 10_9_4...</td>\n",
       "      <td>40</td>\n",
       "    </tr>\n",
       "    <tr>\n",
       "      <td>4</td>\n",
       "      <td>Carl Thomas</td>\n",
       "      <td>Logged In</td>\n",
       "      <td>Tucker</td>\n",
       "      <td>M</td>\n",
       "      <td>0</td>\n",
       "      <td>Garrison</td>\n",
       "      <td>196.67546</td>\n",
       "      <td>free</td>\n",
       "      <td>Oxnard-Thousand Oaks-Ventura, CA</td>\n",
       "      <td>PUT</td>\n",
       "      <td>NextSong</td>\n",
       "      <td>1.540833e+12</td>\n",
       "      <td>698</td>\n",
       "      <td>You Ain't Right (Album Version)</td>\n",
       "      <td>200</td>\n",
       "      <td>1542533944796</td>\n",
       "      <td>\"Mozilla/5.0 (Macintosh; Intel Mac OS X 10_9_4...</td>\n",
       "      <td>40</td>\n",
       "    </tr>\n",
       "    <tr>\n",
       "      <td>5</td>\n",
       "      <td>N.E.R.D.</td>\n",
       "      <td>Logged In</td>\n",
       "      <td>James</td>\n",
       "      <td>M</td>\n",
       "      <td>0</td>\n",
       "      <td>Martin</td>\n",
       "      <td>242.99057</td>\n",
       "      <td>free</td>\n",
       "      <td>Dallas-Fort Worth-Arlington, TX</td>\n",
       "      <td>PUT</td>\n",
       "      <td>NextSong</td>\n",
       "      <td>1.540810e+12</td>\n",
       "      <td>78</td>\n",
       "      <td>Provider (Remix Radio Edit)</td>\n",
       "      <td>200</td>\n",
       "      <td>1542536291796</td>\n",
       "      <td>Mozilla/5.0 (compatible; MSIE 9.0; Windows NT ...</td>\n",
       "      <td>79</td>\n",
       "    </tr>\n",
       "    <tr>\n",
       "      <td>9</td>\n",
       "      <td>Lil Jon / The East Side Boyz / DJ Flexx</td>\n",
       "      <td>Logged In</td>\n",
       "      <td>Jacqueline</td>\n",
       "      <td>F</td>\n",
       "      <td>3</td>\n",
       "      <td>Lynch</td>\n",
       "      <td>285.30893</td>\n",
       "      <td>paid</td>\n",
       "      <td>Atlanta-Sandy Springs-Roswell, GA</td>\n",
       "      <td>PUT</td>\n",
       "      <td>NextSong</td>\n",
       "      <td>1.540224e+12</td>\n",
       "      <td>589</td>\n",
       "      <td>Aww Skeet Skeet</td>\n",
       "      <td>200</td>\n",
       "      <td>1542546961796</td>\n",
       "      <td>\"Mozilla/5.0 (Macintosh; Intel Mac OS X 10_9_4...</td>\n",
       "      <td>29</td>\n",
       "    </tr>\n",
       "  </tbody>\n",
       "</table>\n",
       "</div>"
      ],
      "text/plain": [
       "                                    artist       auth   firstName gender  \\\n",
       "0                          Rokia TraorÃÂ©  Logged In     Stefany      F   \n",
       "2                                   Camila  Logged In      Tucker      M   \n",
       "4                              Carl Thomas  Logged In      Tucker      M   \n",
       "5                                 N.E.R.D.  Logged In       James      M   \n",
       "9  Lil Jon / The East Side Boyz / DJ Flexx  Logged In  Jacqueline      F   \n",
       "\n",
       "   itemInSession  lastName     length level  \\\n",
       "0              0     White  274.88608  free   \n",
       "2              1  Garrison  230.81751  free   \n",
       "4              0  Garrison  196.67546  free   \n",
       "5              0    Martin  242.99057  free   \n",
       "9              3     Lynch  285.30893  paid   \n",
       "\n",
       "                            location method      page  registration  \\\n",
       "0                        Lubbock, TX    PUT  NextSong  1.540708e+12   \n",
       "2   Oxnard-Thousand Oaks-Ventura, CA    PUT  NextSong  1.540833e+12   \n",
       "4   Oxnard-Thousand Oaks-Ventura, CA    PUT  NextSong  1.540833e+12   \n",
       "5    Dallas-Fort Worth-Arlington, TX    PUT  NextSong  1.540810e+12   \n",
       "9  Atlanta-Sandy Springs-Roswell, GA    PUT  NextSong  1.540224e+12   \n",
       "\n",
       "   sessionId                             song  status             ts  \\\n",
       "0        693                              Zen     200  1542508401796   \n",
       "2        555     Abrazame  (Version Acustica)     200  1542511324796   \n",
       "4        698  You Ain't Right (Album Version)     200  1542533944796   \n",
       "5         78      Provider (Remix Radio Edit)     200  1542536291796   \n",
       "9        589                  Aww Skeet Skeet     200  1542546961796   \n",
       "\n",
       "                                           userAgent userId  \n",
       "0  \"Mozilla/5.0 (Macintosh; Intel Mac OS X 10_9_4...     83  \n",
       "2  \"Mozilla/5.0 (Macintosh; Intel Mac OS X 10_9_4...     40  \n",
       "4  \"Mozilla/5.0 (Macintosh; Intel Mac OS X 10_9_4...     40  \n",
       "5  Mozilla/5.0 (compatible; MSIE 9.0; Windows NT ...     79  \n",
       "9  \"Mozilla/5.0 (Macintosh; Intel Mac OS X 10_9_4...     29  "
      ]
     },
     "execution_count": 18,
     "metadata": {},
     "output_type": "execute_result"
    }
   ],
   "source": [
    "df.head()"
   ]
  },
  {
   "cell_type": "code",
   "execution_count": 19,
   "metadata": {},
   "outputs": [
    {
     "data": {
      "text/plain": [
       "Timestamp('2018-11-18 10:18:11.796000')"
      ]
     },
     "execution_count": 19,
     "metadata": {},
     "output_type": "execute_result"
    }
   ],
   "source": [
    "t = pd.to_datetime(df['ts'], unit='ms')\n",
    "\n",
    "t.iloc[3]"
   ]
  },
  {
   "cell_type": "code",
   "execution_count": 20,
   "metadata": {},
   "outputs": [
    {
     "data": {
      "text/plain": [
       "0"
      ]
     },
     "execution_count": 20,
     "metadata": {},
     "output_type": "execute_result"
    }
   ],
   "source": [
    "time_data = [t, t.dt.hour, t.dt.day, t.dt.week, t.dt.month, t.dt.year, t.dt.weekday]\n",
    "column_labels = ['start_time', 'hour', 'day', 'week', 'month', 'year', 'weekday']\n",
    "\n",
    "# time_df = pd.DataFrame.from_records(data=time_data)\n",
    "\n",
    "time_data[0].index[0]"
   ]
  },
  {
   "cell_type": "code",
   "execution_count": 21,
   "metadata": {},
   "outputs": [],
   "source": [
    "time_list = []\n",
    "for n in range(len(time_data[0].index)):\n",
    "    i = time_data[0].index[n]\n",
    "    time_dict = {\n",
    "        'start_time': time_data[0][i],\n",
    "        'hour': time_data[1][i].item(),\n",
    "        'day': time_data[2][i].item(),\n",
    "        'week': time_data[3][i].item(),\n",
    "        'month': time_data[4][i].item(),\n",
    "        'year': time_data[5][i].item(),\n",
    "        'weekday': time_data[6][i].item()\n",
    "    }\n",
    "    \n",
    "    time_list.append(time_dict)\n",
    "\n"
   ]
  },
  {
   "cell_type": "markdown",
   "metadata": {},
   "source": [
    "#### Insert Records into Time Table\n",
    "Implement the `time_table_insert` query in `sql_queries.py` and run the cell below to insert records for the timestamps in this log file into the `time` table. Remember to run `create_tables.py` before running the cell below to ensure you've created/resetted the `time` table in the sparkify database."
   ]
  },
  {
   "cell_type": "code",
   "execution_count": null,
   "metadata": {},
   "outputs": [],
   "source": [
    "for row in time_list:\n",
    "    cur.execute(time_table_insert, list(row.values()))\n",
    "    conn.commit()"
   ]
  },
  {
   "cell_type": "markdown",
   "metadata": {},
   "source": [
    "Run `test.ipynb` to see if you've successfully added records to this table."
   ]
  },
  {
   "cell_type": "markdown",
   "metadata": {},
   "source": [
    "## #4: `users` Table\n",
    "#### Extract Data for Users Table\n",
    "- Select columns for user ID, first name, last name, gender and level and set to `user_df`"
   ]
  },
  {
   "cell_type": "code",
   "execution_count": null,
   "metadata": {},
   "outputs": [],
   "source": [
    "df.columns"
   ]
  },
  {
   "cell_type": "code",
   "execution_count": null,
   "metadata": {},
   "outputs": [],
   "source": [
    "# Only select columns we need for users table, and drop duplicate users\n",
    "user_df = df[['userId', 'firstName', 'lastName', 'gender', 'level']].drop_duplicates(subset='userId')"
   ]
  },
  {
   "cell_type": "markdown",
   "metadata": {},
   "source": [
    "#### Insert Records into Users Table\n",
    "Implement the `user_table_insert` query in `sql_queries.py` and run the cell below to insert records for the users in this log file into the `users` table. Remember to run `create_tables.py` before running the cell below to ensure you've created/resetted the `users` table in the sparkify database."
   ]
  },
  {
   "cell_type": "code",
   "execution_count": null,
   "metadata": {},
   "outputs": [],
   "source": [
    "for index, row in user_df.iterrows():\n",
    "    cur.execute(user_table_insert, row)\n",
    "    conn.commit()"
   ]
  },
  {
   "cell_type": "markdown",
   "metadata": {},
   "source": [
    "Run `test.ipynb` to see if you've successfully added records to this table."
   ]
  },
  {
   "cell_type": "markdown",
   "metadata": {},
   "source": [
    "## #5: `songplays` Table\n",
    "#### Extract Data and Songplays Table\n",
    "This one is a little more complicated since information from the songs table, artists table, and original log file are all needed for the `songplays` table. Since the log file does not specify an ID for either the song or the artist, you'll need to get the song ID and artist ID by querying the songs and artists tables to find matches based on song title, artist name, and song duration time.\n",
    "- Implement the `song_select` query in `sql_queries.py` to find the song ID and artist ID based on the title, artist name, and duration of a song.\n",
    "- Select the timestamp, user ID, level, song ID, artist ID, session ID, location, and user agent and set to `songplay_data`\n",
    "\n",
    "#### Insert Records into Songplays Table\n",
    "- Implement the `songplay_table_insert` query and run the cell below to insert records for the songplay actions in this log file into the `songplays` table. Remember to run `create_tables.py` before running the cell below to ensure you've created/resetted the `songplays` table in the sparkify database."
   ]
  },
  {
   "cell_type": "code",
   "execution_count": null,
   "metadata": {},
   "outputs": [],
   "source": [
    "df.head()"
   ]
  },
  {
   "cell_type": "code",
   "execution_count": null,
   "metadata": {},
   "outputs": [],
   "source": [
    "for index, row in df.iterrows():\n",
    "    # Get songid and artistid from song and artist tables\n",
    "    results = cur.execute(song_select, [row['song'], row['artist'], row['length']])\n",
    "    song_id, artist_id = results if results else None, None\n",
    "    \n",
    "    # Insert songplay record\n",
    "    songplay_data = (\n",
    "        pd.to_datetime(row['ts'], unit='ms'), \n",
    "        row['userId'], \n",
    "        row['level'], \n",
    "        song_id, \n",
    "        artist_id, \n",
    "        row['sessionId'], \n",
    "        row['location'], \n",
    "        row['userAgent']\n",
    "    )\n",
    "    cur.execute(songplay_table_insert, songplay_data)\n",
    "    conn.commit()"
   ]
  },
  {
   "cell_type": "markdown",
   "metadata": {},
   "source": [
    "Run `test.ipynb` to see if you've successfully added records to this table."
   ]
  },
  {
   "cell_type": "markdown",
   "metadata": {},
   "source": [
    "# Close Connection to Sparkify Database"
   ]
  },
  {
   "cell_type": "code",
   "execution_count": 23,
   "metadata": {},
   "outputs": [],
   "source": [
    "conn.close()"
   ]
  },
  {
   "cell_type": "markdown",
   "metadata": {},
   "source": [
    "# Implement `etl.py`\n",
    "Use what you've completed in this notebook to implement `etl.py`."
   ]
  },
  {
   "cell_type": "code",
   "execution_count": null,
   "metadata": {},
   "outputs": [],
   "source": []
  }
 ],
 "metadata": {
  "kernelspec": {
   "display_name": "Python 3",
   "language": "python",
   "name": "python3"
  },
  "language_info": {
   "codemirror_mode": {
    "name": "ipython",
    "version": 3
   },
   "file_extension": ".py",
   "mimetype": "text/x-python",
   "name": "python",
   "nbconvert_exporter": "python",
   "pygments_lexer": "ipython3",
   "version": "3.7.4"
  }
 },
 "nbformat": 4,
 "nbformat_minor": 2
}
